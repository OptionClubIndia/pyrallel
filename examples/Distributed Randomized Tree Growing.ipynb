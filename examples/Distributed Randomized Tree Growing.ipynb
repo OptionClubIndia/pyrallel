{
 "metadata": {
  "name": ""
 },
 "nbformat": 3,
 "nbformat_minor": 0,
 "worksheets": [
  {
   "cells": [
    {
     "cell_type": "code",
     "collapsed": false,
     "input": [
      "%matplotlib inline\n",
      "import numpy as np\n",
      "import matplotlib.pyplot as plt\n",
      "\n",
      "from pyrallel.ensemble import EnsembleGrower\n",
      "from pyrallel.ensemble import sub_ensemble\n",
      "from sklearn.datasets import load_digits\n",
      "from sklearn.ensemble import ExtraTreesClassifier\n",
      "from sklearn.cross_validation import train_test_split"
     ],
     "language": "python",
     "metadata": {},
     "outputs": [],
     "prompt_number": 1
    },
    {
     "cell_type": "code",
     "collapsed": false,
     "input": [
      "from IPython.parallel import Client\n",
      "lb = Client().load_balanced_view()\n",
      "len(lb)"
     ],
     "language": "python",
     "metadata": {},
     "outputs": [
      {
       "output_type": "stream",
       "stream": "stderr",
       "text": [
        "/Users/ogrisel/code/ipython/IPython/parallel/client/client.py:450: RuntimeWarning: \n",
        "            Controller appears to be listening on localhost, but not on this machine.\n",
        "            If this is true, you should specify Client(...,sshserver='you@192.168.1.101')\n",
        "            or instruct your controller to listen on an external IP.\n",
        "  RuntimeWarning)\n"
       ]
      },
      {
       "metadata": {},
       "output_type": "pyout",
       "prompt_number": 2,
       "text": [
        "2"
       ]
      }
     ],
     "prompt_number": 2
    },
    {
     "cell_type": "code",
     "collapsed": false,
     "input": [
      "digits = load_digits()\n",
      "\n",
      "X_train, X_test, y_train, y_test = train_test_split(\n",
      "    digits.data, digits.target)"
     ],
     "language": "python",
     "metadata": {},
     "outputs": [],
     "prompt_number": 3
    },
    {
     "cell_type": "code",
     "collapsed": false,
     "input": [
      "grower = EnsembleGrower(lb, ExtraTreesClassifier(n_estimators=5))"
     ],
     "language": "python",
     "metadata": {},
     "outputs": [],
     "prompt_number": 4
    },
    {
     "cell_type": "code",
     "collapsed": false,
     "input": [
      "grower.launch(X_train, y_train, n_estimators=100,\n",
      "              folder='digits', name=\"digits_trees\")"
     ],
     "language": "python",
     "metadata": {},
     "outputs": [
      {
       "metadata": {},
       "output_type": "pyout",
       "prompt_number": 5,
       "text": [
        "Progress: 05% (006/100), elapsed: 0.430s\n"
       ]
      }
     ],
     "prompt_number": 5
    },
    {
     "cell_type": "code",
     "collapsed": false,
     "input": [
      "grower"
     ],
     "language": "python",
     "metadata": {},
     "outputs": [
      {
       "metadata": {},
       "output_type": "pyout",
       "prompt_number": 6,
       "text": [
        "Progress: 98% (098/100), elapsed: 3.800s\n"
       ]
      }
     ],
     "prompt_number": 6
    },
    {
     "cell_type": "code",
     "collapsed": false,
     "input": [
      "grower.wait()"
     ],
     "language": "python",
     "metadata": {},
     "outputs": [
      {
       "metadata": {},
       "output_type": "pyout",
       "prompt_number": 9,
       "text": [
        "Progress: 100% (100/100), elapsed: 5.198s\n"
       ]
      }
     ],
     "prompt_number": 9
    },
    {
     "cell_type": "code",
     "collapsed": false,
     "input": [
      "%time final_model = grower.aggregate_model()\n",
      "print(\"number of trees: {}\".format(\n",
      "    final_model.n_estimators_))"
     ],
     "language": "python",
     "metadata": {},
     "outputs": [],
     "prompt_number": "*"
    },
    {
     "cell_type": "code",
     "collapsed": false,
     "input": [
      "score = final_model.score(X_test, y_test)\n",
      "print(\"score: {:.3f}\".format(score))"
     ],
     "language": "python",
     "metadata": {},
     "outputs": [],
     "prompt_number": "*"
    }
   ],
   "metadata": {}
  }
 ]
}