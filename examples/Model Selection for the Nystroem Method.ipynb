{
 "metadata": {
  "name": "Model Selection for the Nystroem Method"
 },
 "nbformat": 3,
 "nbformat_minor": 0,
 "worksheets": [
  {
   "cells": [
    {
     "cell_type": "code",
     "collapsed": false,
     "input": [
      "%pylab inline\n",
      "import pylab as pl\n",
      "import numpy as np\n",
      "\n",
      "# Some nice default configuration for plots\n",
      "pl.rcParams['figure.figsize'] = 10, 7.5\n",
      "pl.rcParams['axes.grid'] = True\n",
      "pl.gray()"
     ],
     "language": "python",
     "metadata": {},
     "outputs": []
    },
    {
     "cell_type": "heading",
     "level": 2,
     "metadata": {},
     "source": [
      "IPython.parallel"
     ]
    },
    {
     "cell_type": "code",
     "collapsed": false,
     "input": [
      "from IPython.parallel import Client\n",
      "client = Client()"
     ],
     "language": "python",
     "metadata": {},
     "outputs": []
    },
    {
     "cell_type": "code",
     "collapsed": false,
     "input": [
      "len(client)"
     ],
     "language": "python",
     "metadata": {},
     "outputs": []
    },
    {
     "cell_type": "code",
     "collapsed": false,
     "input": [
      "%px print(\"Hello from the cluster engines!\")"
     ],
     "language": "python",
     "metadata": {},
     "outputs": []
    },
    {
     "cell_type": "code",
     "collapsed": false,
     "input": [
      "def where_am_i():\n",
      "    import os\n",
      "    import socket\n",
      "    \n",
      "    return \"In process with pid {0} on host: '{1}'\".format(\n",
      "        os.getpid(), socket.gethostname())\n"
     ],
     "language": "python",
     "metadata": {},
     "outputs": []
    },
    {
     "cell_type": "code",
     "collapsed": false,
     "input": [
      "where_am_i()"
     ],
     "language": "python",
     "metadata": {},
     "outputs": []
    },
    {
     "cell_type": "heading",
     "level": 4,
     "metadata": {},
     "source": [
      "Direct View"
     ]
    },
    {
     "cell_type": "code",
     "collapsed": false,
     "input": [
      "direct_view = client.direct_view()"
     ],
     "language": "python",
     "metadata": {},
     "outputs": []
    },
    {
     "cell_type": "code",
     "collapsed": false,
     "input": [
      "where_am_i_direct_results = direct_view.apply(where_am_i)\n",
      "where_am_i_direct_results"
     ],
     "language": "python",
     "metadata": {},
     "outputs": []
    },
    {
     "cell_type": "code",
     "collapsed": false,
     "input": [
      "where_am_i_direct_results.get()"
     ],
     "language": "python",
     "metadata": {},
     "outputs": []
    },
    {
     "cell_type": "code",
     "collapsed": false,
     "input": [
      "where_am_i_direct_results.get_dict()"
     ],
     "language": "python",
     "metadata": {},
     "outputs": []
    },
    {
     "cell_type": "heading",
     "level": 4,
     "metadata": {},
     "source": [
      "Load Balanced View"
     ]
    },
    {
     "cell_type": "code",
     "collapsed": false,
     "input": [
      "lb_view = client.load_balanced_view()"
     ],
     "language": "python",
     "metadata": {},
     "outputs": []
    },
    {
     "cell_type": "code",
     "collapsed": false,
     "input": [
      "where_am_i_lb_result = lb_view.apply(where_am_i)\n",
      "where_am_i_lb_result"
     ],
     "language": "python",
     "metadata": {},
     "outputs": []
    },
    {
     "cell_type": "code",
     "collapsed": false,
     "input": [
      "where_am_i_lb_result.get()"
     ],
     "language": "python",
     "metadata": {},
     "outputs": []
    },
    {
     "cell_type": "heading",
     "level": 2,
     "metadata": {},
     "source": [
      "Distributed Grid Search for a Linear Support Vector Machine"
     ]
    },
    {
     "cell_type": "code",
     "collapsed": false,
     "input": [
      "from pyrallel import mmap_utils, model_selection\n",
      "_ = reload(mmap_utils), reload(model_selection)"
     ],
     "language": "python",
     "metadata": {},
     "outputs": []
    },
    {
     "cell_type": "code",
     "collapsed": false,
     "input": [
      "from sklearn.datasets import load_digits\n",
      "from sklearn.preprocessing import MinMaxScaler\n",
      "\n",
      "digits = load_digits()\n",
      "\n",
      "X = MinMaxScaler().fit_transform(digits.data)\n",
      "y = digits.target"
     ],
     "language": "python",
     "metadata": {},
     "outputs": []
    },
    {
     "cell_type": "code",
     "collapsed": false,
     "input": [
      "digits_cv_split_filenames = mmap_utils.persist_cv_splits(X, y, name='digits_10', n_cv_iter=10)\n",
      "digits_cv_split_filenames"
     ],
     "language": "python",
     "metadata": {},
     "outputs": []
    },
    {
     "cell_type": "code",
     "collapsed": false,
     "input": [
      "mmap_utils.warm_mmap_on_cv_splits(client, digits_cv_split_filenames)"
     ],
     "language": "python",
     "metadata": {},
     "outputs": []
    },
    {
     "cell_type": "code",
     "collapsed": false,
     "input": [
      "from sklearn.svm import LinearSVC\n",
      "from collections import OrderedDict\n",
      "import numpy as np\n",
      "\n",
      "linear_svc_params = OrderedDict((\n",
      "    ('C', np.logspace(-2, 2, 5)),\n",
      "))\n",
      "linear_svc = LinearSVC()"
     ],
     "language": "python",
     "metadata": {},
     "outputs": []
    },
    {
     "cell_type": "code",
     "collapsed": false,
     "input": [
      "linear_svc_search = model_selection.RandomizedGridSeach(lb_view)\n",
      "\n",
      "linear_svc_search.launch_for_splits(linear_svc, linear_svc_params, digits_cv_split_filenames)"
     ],
     "language": "python",
     "metadata": {},
     "outputs": []
    },
    {
     "cell_type": "code",
     "collapsed": false,
     "input": [
      "linear_svc_search"
     ],
     "language": "python",
     "metadata": {},
     "outputs": []
    },
    {
     "cell_type": "code",
     "collapsed": false,
     "input": [
      "linear_svc_search.boxplot_parameters(display_train=False)"
     ],
     "language": "python",
     "metadata": {},
     "outputs": []
    },
    {
     "cell_type": "heading",
     "level": 2,
     "metadata": {},
     "source": [
      "Scaling Non-Linear SVM: Kernel Approximations"
     ]
    },
    {
     "cell_type": "markdown",
     "metadata": {},
     "source": [
      "### Motivation: traditional kernel SVM as in SVC has almost cubic complexity w.r.t. `n_samples`"
     ]
    },
    {
     "cell_type": "code",
     "collapsed": false,
     "input": [
      "x = np.linspace(0, int(1e3), 100)\n",
      "\n",
      "pl.plot(x, x ** 3 / 1e9)\n",
      "pl.xlabel(\"Number of training samples\")\n",
      "pl.ylabel(\"Estimated Convergence Time of SMO (in seconds)\")"
     ],
     "language": "python",
     "metadata": {},
     "outputs": []
    },
    {
     "cell_type": "code",
     "collapsed": false,
     "input": [
      "1e6 ** 3 / 1e9 / 60 / 60 / 24 / 365"
     ],
     "language": "python",
     "metadata": {},
     "outputs": []
    },
    {
     "cell_type": "heading",
     "level": 3,
     "metadata": {},
     "source": [
      "Solution: Approximate Kernel SVM with a non-linear Kernel Expansion on a Small Basis + Linear SVC"
     ]
    },
    {
     "cell_type": "code",
     "collapsed": false,
     "input": [
      "from sklearn.kernel_approximation import Nystroem\n",
      "from sklearn.pipeline import Pipeline\n",
      "\n",
      "nystroem_pipeline = Pipeline([\n",
      "    ('nystroem', Nystroem()),\n",
      "    ('clf', LinearSVC()),\n",
      "])"
     ],
     "language": "python",
     "metadata": {},
     "outputs": [],
     "prompt_number": 69
    },
    {
     "cell_type": "code",
     "collapsed": false,
     "input": [
      "nystroem_pipeline_params = OrderedDict((\n",
      "    ('nystroem__n_components', [50, 100, 200]),\n",
      "    ('nystroem__gamma', np.logspace(-2, 2, 5)),\n",
      "    ('clf__C', np.logspace(-2, 2, 5)),\n",
      "))"
     ],
     "language": "python",
     "metadata": {},
     "outputs": [],
     "prompt_number": 71
    },
    {
     "cell_type": "code",
     "collapsed": false,
     "input": [
      "nystroem_search = model_selection.RandomizedGridSeach(lb_view)"
     ],
     "language": "python",
     "metadata": {},
     "outputs": [],
     "prompt_number": 72
    },
    {
     "cell_type": "code",
     "collapsed": false,
     "input": [
      "nystroem_search.launch_for_splits(nystroem_pipeline, nystroem_pipeline_params, digits_cv_split_filenames)"
     ],
     "language": "python",
     "metadata": {},
     "outputs": [
      {
       "output_type": "pyout",
       "prompt_number": 73,
       "text": [
        "Progress: 00% (001/750)\n"
       ]
      }
     ],
     "prompt_number": 73
    },
    {
     "cell_type": "code",
     "collapsed": false,
     "input": [
      "nystroem_search"
     ],
     "language": "python",
     "metadata": {},
     "outputs": [
      {
       "output_type": "pyout",
       "prompt_number": 90,
       "text": [
        "Progress: 04% (035/750)\n",
        "\n",
        "Rank 1: validation: 0.92022 (+/-0.00617) train: 0.93140 (+/-0.00548):\n",
        " {'nystroem__n_components': 100, 'clf__C': 10.0, 'nystroem__gamma': 1.0}\n",
        "Rank 2: validation: 0.88600 (+/-0.00883) train: 0.89777 (+/-0.00459):\n",
        " {'nystroem__n_components': 100, 'clf__C': 0.10000000000000001, 'nystroem__gamma': 1.0}\n",
        "Rank 3: validation: 0.08944 (+/-0.00637) train: 0.23942 (+/-0.00150):\n",
        " {'nystroem__n_components': 200, 'clf__C': 100.0, 'nystroem__gamma': 100.0}\n",
        "Rank 4: validation: 0.08178 (+/-0.00346) train: 0.14024 (+/-0.00106):\n",
        " {'nystroem__n_components': 50, 'clf__C': 10.0, 'nystroem__gamma': 100.0}"
       ]
      }
     ],
     "prompt_number": 90
    },
    {
     "cell_type": "code",
     "collapsed": false,
     "input": [
      "nystroem_search.boxplot_parameters()"
     ],
     "language": "python",
     "metadata": {},
     "outputs": [
      {
       "output_type": "display_data",
       "png": "[encoded data removed]",
       "text": [
        "<matplotlib.figure.Figure at 0x10d01c890>"
       ]
      }
     ],
     "prompt_number": 92
    },
    {
     "cell_type": "code",
     "collapsed": false,
     "input": [
      "nystroem_search.reset()"
     ],
     "language": "python",
     "metadata": {},
     "outputs": [],
     "prompt_number": 93
    },
    {
     "cell_type": "heading",
     "level": 2,
     "metadata": {},
     "source": [
      "A Word of Caution on the Scalability of this Implementation Nystroem method"
     ]
    },
    {
     "cell_type": "markdown",
     "metadata": {},
     "source": [
      "In this example we used LinearSVC that does not provide a `partial_fit` method hence require to put the Nystroem expansion of complet dataset in memory. Furthermore the `Pipeline` object does not optimize the memory usage.\n",
      "\n",
      "To make this example really scalable we would need to:\n",
      "    \n",
      "- Replace LinearSVC with an incremental linear model: Perceptron, PassiveAggressiveClassifier, SGDClassifier\n",
      "- Add support for memory efficient `partial_fit` to `sklearn.pipeline.Pipeline`\n",
      "- Change our IPython.parallel based model evaluator to use the `partial_fit` method with small minibatches in the inner model evaluation function."
     ]
    }
   ],
   "metadata": {}
  }
 ]
}